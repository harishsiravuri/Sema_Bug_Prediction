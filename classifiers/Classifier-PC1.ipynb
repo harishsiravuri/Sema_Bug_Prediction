{
 "cells": [
  {
   "cell_type": "markdown",
   "metadata": {},
   "source": [
    "# Import Basics"
   ]
  },
  {
   "cell_type": "code",
   "execution_count": 1,
   "metadata": {
    "collapsed": true
   },
   "outputs": [],
   "source": [
    "import pandas as pd\n",
    "import numpy as np\n",
    "from sklearn import metrics\n",
    "from sklearn.model_selection import KFold"
   ]
  },
  {
   "cell_type": "markdown",
   "metadata": {},
   "source": [
    "# Prepare Data"
   ]
  },
  {
   "cell_type": "code",
   "execution_count": 2,
   "metadata": {
    "collapsed": true
   },
   "outputs": [],
   "source": [
    "data = pd.read_csv(r\"pc1.csv\")\n",
    "data = data.sample(frac = 1).reset_index(drop = True)\n",
    "\n",
    "train = data.sample(frac = 0.7, random_state = 1)\n",
    "test = data.loc[~data.index.isin(train.index)]\n",
    "\n",
    "data_columns = ['lineCount', 'cyclomaticComplexity', 'essentialComplexity', 'designComplexity', 'operatorsOperands', 'volume', \n",
    "                'programLength', 'difficulty', 'intelligence', 'effort', 'h', 'timeEstimator', 'hlineCount', 'hlineComments', \n",
    "                'hlineBlanks', 'hCodeAndComment', 'uniqueOperators', 'uniqueOperands', 'totalOperators', 'totalOperands', \n",
    "                'branchCount']\n",
    "\n",
    "train_data_array = train.as_matrix(columns = data_columns)\n",
    "train_class_array = train['defects'].values\n",
    "\n",
    "test_data_array = test.as_matrix(columns = data_columns)\n",
    "test_class_array = test['defects'].values"
   ]
  },
  {
   "cell_type": "markdown",
   "metadata": {},
   "source": [
    "# Classify Away!!"
   ]
  },
  {
   "cell_type": "markdown",
   "metadata": {},
   "source": [
    "## Multinomial Naive Bayes"
   ]
  },
  {
   "cell_type": "code",
   "execution_count": 3,
   "metadata": {},
   "outputs": [
    {
     "name": "stdout",
     "output_type": "stream",
     "text": [
      "Validation Accuracy:   0.907\n",
      "Accuracy:   0.919\n",
      "Precision:   0.000\n",
      "Recall:   0.000\n",
      "F-measure:   0.000\n"
     ]
    }
   ],
   "source": [
    "from sklearn.naive_bayes import MultinomialNB\n",
    "mnb = MultinomialNB()\n",
    "\n",
    "kf = KFold(n_splits = 10, random_state = None, shuffle = False)\n",
    "validation_score = 0\n",
    "for train_index, test_index in kf.split(train_data_array):\n",
    "    X_train, X_test = train_data_array[train_index], train_data_array[test_index]\n",
    "    y_train, y_test = train_class_array[train_index], train_class_array[test_index]\n",
    "    mnb.fit(X_train, y_train)\n",
    "    validation_pred = mnb.predict(X_test)\n",
    "    validation_score += metrics.accuracy_score(y_test, validation_pred)\n",
    "\n",
    "print(\"Validation Accuracy:   %0.3f\" % (validation_score/kf.get_n_splits()))\n",
    "\n",
    "pred = mnb.predict(test_data_array)\n",
    "\n",
    "score = metrics.accuracy_score(test_class_array, pred)\n",
    "print(\"Accuracy:   %0.3f\" % score)\n",
    "\n",
    "score = metrics.precision_score(test_class_array, pred)\n",
    "print(\"Precision:   %0.3f\" % score)\n",
    "\n",
    "score = metrics.recall_score(test_class_array, pred)\n",
    "print(\"Recall:   %0.3f\" % score)\n",
    "\n",
    "score = metrics.f1_score(test_class_array, pred)\n",
    "print(\"F-measure:   %0.3f\" % score)"
   ]
  },
  {
   "cell_type": "markdown",
   "metadata": {},
   "source": [
    "## Random Forest"
   ]
  },
  {
   "cell_type": "code",
   "execution_count": 4,
   "metadata": {},
   "outputs": [
    {
     "name": "stdout",
     "output_type": "stream",
     "text": [
      "Accuracy:   0.949\n",
      "Precision:   0.636\n",
      "Recall:   0.350\n",
      "F-measure:   0.452\n"
     ]
    }
   ],
   "source": [
    "from sklearn.ensemble import RandomForestClassifier\n",
    "rf = RandomForestClassifier(n_estimators = 100)\n",
    "\n",
    "rf.fit(train_data_array, train_class_array)\n",
    "\n",
    "pred = rf.predict(test_data_array)\n",
    "\n",
    "score = metrics.accuracy_score(test_class_array, pred)\n",
    "print(\"Accuracy:   %0.3f\" % score)\n",
    "\n",
    "score = metrics.precision_score(test_class_array, pred)\n",
    "print(\"Precision:   %0.3f\" % score)\n",
    "\n",
    "score = metrics.recall_score(test_class_array, pred)\n",
    "print(\"Recall:   %0.3f\" % score)\n",
    "\n",
    "score = metrics.f1_score(test_class_array, pred)\n",
    "print(\"F-measure:   %0.3f\" % score)"
   ]
  },
  {
   "cell_type": "markdown",
   "metadata": {},
   "source": [
    "## Support Vector Machine"
   ]
  },
  {
   "cell_type": "code",
   "execution_count": 5,
   "metadata": {},
   "outputs": [
    {
     "name": "stdout",
     "output_type": "stream",
     "text": [
      "Accuracy:   0.949\n",
      "Precision:   0.800\n",
      "Recall:   0.200\n",
      "F-measure:   0.320\n"
     ]
    }
   ],
   "source": [
    "from sklearn import svm\n",
    "sv = svm.SVC()\n",
    "\n",
    "sv.fit(train_data_array, train_class_array)\n",
    "\n",
    "pred = sv.predict(test_data_array)\n",
    "\n",
    "score = metrics.accuracy_score(test_class_array, pred)\n",
    "print(\"Accuracy:   %0.3f\" % score)\n",
    "\n",
    "score = metrics.precision_score(test_class_array, pred)\n",
    "print(\"Precision:   %0.3f\" % score)\n",
    "\n",
    "score = metrics.recall_score(test_class_array, pred)\n",
    "print(\"Recall:   %0.3f\" % score)\n",
    "\n",
    "score = metrics.f1_score(test_class_array, pred)\n",
    "print(\"F-measure:   %0.3f\" % score)"
   ]
  },
  {
   "cell_type": "code",
   "execution_count": null,
   "metadata": {
    "collapsed": true
   },
   "outputs": [],
   "source": []
  }
 ],
 "metadata": {
  "kernelspec": {
   "display_name": "Python [default]",
   "language": "python",
   "name": "python3"
  },
  "language_info": {
   "codemirror_mode": {
    "name": "ipython",
    "version": 3
   },
   "file_extension": ".py",
   "mimetype": "text/x-python",
   "name": "python",
   "nbconvert_exporter": "python",
   "pygments_lexer": "ipython3",
   "version": "3.5.3"
  }
 },
 "nbformat": 4,
 "nbformat_minor": 2
}
