{
 "cells": [
  {
   "cell_type": "code",
   "execution_count": 1,
   "metadata": {
    "collapsed": true,
    "scrolled": true
   },
   "outputs": [],
   "source": [
    "import pandas as pd\n",
    "import numpy as np\n",
    "from sklearn import metrics\n",
    "from sklearn.model_selection import KFold\n",
    "\n",
    "from sklearn.model_selection import KFold\n",
    "from sklearn import metrics"
   ]
  },
  {
   "cell_type": "code",
   "execution_count": 3,
   "metadata": {
    "collapsed": false,
    "scrolled": true
   },
   "outputs": [
    {
     "name": "stdout",
     "output_type": "stream",
     "text": [
      "2665\n",
      "2665\n"
     ]
    }
   ],
   "source": [
    "data = pd.read_csv(r\"data_no_corr_85.csv\")\n",
    "\n",
    "data_defects = data.loc[data['defects'] == True]\n",
    "\n",
    "data_no_defects = data.loc[data['defects'] == False]\n",
    "data_no_defects = data_no_defects.sample(n=len(data_defects))\n",
    "\n",
    "print(len(data_no_defects))\n",
    "print(len(data_defects))\n",
    "\n",
    "balanced_data = data_defects.append(data_no_defects)\n",
    "balanced_data = balanced_data.sample(frac = 1).reset_index(drop = True)\n",
    "#balanced_data"
   ]
  },
  {
   "cell_type": "code",
   "execution_count": 4,
   "metadata": {
    "collapsed": false,
    "scrolled": true
   },
   "outputs": [],
   "source": [
    "features = list(balanced_data.columns.values)\n",
    "features.remove('defects')"
   ]
  },
  {
   "cell_type": "code",
   "execution_count": 5,
   "metadata": {
    "collapsed": true
   },
   "outputs": [],
   "source": [
    "train = balanced_data.sample(frac = 0.8, random_state = 1)\n",
    "test = balanced_data.loc[~balanced_data.index.isin(train.index)]\n",
    "\n",
    "train_data_array=train.as_matrix(columns = features)\n",
    "train_class_array= train['defects'].values\n",
    "test_data_array=test.as_matrix(columns = features)\n",
    "test_class_array= test['defects'].values"
   ]
  },
  {
   "cell_type": "code",
   "execution_count": 5,
   "metadata": {
    "collapsed": false,
    "scrolled": true
   },
   "outputs": [
    {
     "name": "stdout",
     "output_type": "stream",
     "text": [
      "Validation Accuracy:   0.532\n",
      "accuracy:   0.522\n",
      "Precision:   0.611\n",
      "Recall:   0.063\n",
      "F-measure:   0.115\n"
     ]
    }
   ],
   "source": [
    "from sklearn.naive_bayes import MultinomialNB\n",
    "\n",
    "clf = MultinomialNB()\n",
    "\n",
    "kf=KFold(n_splits=10, random_state=None, shuffle=False)\n",
    "validation_score=0\n",
    "for train_index, test_index in kf.split(train_data_array):\n",
    "    X_train, X_test = train_data_array[train_index], train_data_array[test_index]\n",
    "    y_train, y_test = train_class_array[train_index], train_class_array[test_index]\n",
    "    clf.fit(X_train, y_train)\n",
    "    validation_pred=clf.predict(X_test)\n",
    "    validation_score+=metrics.accuracy_score(y_test,validation_pred)\n",
    "\n",
    "print(\"Validation Accuracy:   %0.3f\" % (validation_score/kf.get_n_splits()))\n",
    "\n",
    "pred = clf.predict(test_data_array)\n",
    "score = metrics.accuracy_score(test_class_array, pred)\n",
    "print(\"accuracy:   %0.3f\" % score)\n",
    "\n",
    "score = metrics.precision_score(test_class_array, pred)\n",
    "print(\"Precision:   %0.3f\" % score)\n",
    "\n",
    "score = metrics.recall_score(test_class_array, pred)\n",
    "print(\"Recall:   %0.3f\" % score)\n",
    "\n",
    "score = metrics.f1_score(test_class_array, pred)\n",
    "print(\"F-measure:   %0.3f\" % score)"
   ]
  },
  {
   "cell_type": "code",
   "execution_count": 9,
   "metadata": {
    "collapsed": false,
    "scrolled": true
   },
   "outputs": [
    {
     "name": "stdout",
     "output_type": "stream",
     "text": [
      "accuracy:   0.694\n",
      "Precision:   0.682\n",
      "Recall:   0.703\n",
      "F-measure:   0.692\n"
     ]
    }
   ],
   "source": [
    "from sklearn.ensemble import RandomForestClassifier\n",
    "\n",
    "clf = RandomForestClassifier(n_estimators=100)\n",
    "\n",
    "clf.fit(train_data_array, train_class_array)\n",
    "\n",
    "pred = clf.predict(test_data_array)\n",
    "score = metrics.accuracy_score(test_class_array, pred)\n",
    "print(\"accuracy:   %0.3f\" % score)\n",
    "\n",
    "score = metrics.precision_score(test_class_array, pred)\n",
    "print(\"Precision:   %0.3f\" % score)\n",
    "\n",
    "score = metrics.recall_score(test_class_array, pred)\n",
    "print(\"Recall:   %0.3f\" % score)\n",
    "\n",
    "score = metrics.f1_score(test_class_array, pred)\n",
    "print(\"F-measure:   %0.3f\" % score)"
   ]
  },
  {
   "cell_type": "code",
   "execution_count": 10,
   "metadata": {
    "collapsed": false
   },
   "outputs": [
    {
     "name": "stdout",
     "output_type": "stream",
     "text": [
      "Feature ranking:\n",
      "1. lineCount (0.142700)\n",
      "2. intelligence (0.063674)\n",
      "3. hlineCount (0.062190)\n",
      "4. volume (0.056934)\n",
      "5. operatorsOperands (0.054312)\n",
      "6. timeEstimator (0.052604)\n",
      "7. effort (0.051243)\n",
      "8. totalOperators (0.050544)\n",
      "9. difficulty (0.049714)\n",
      "10. hlineBlanks (0.048828)\n",
      "11. totalOperands (0.045744)\n",
      "12. uniqueOperands (0.043966)\n",
      "13. designComplexity (0.042470)\n",
      "14. branchCount (0.040173)\n",
      "15. cyclomaticComplexity (0.039375)\n",
      "16. uniqueOperators (0.034656)\n",
      "17. h (0.028061)\n",
      "18. hlineComments (0.026942)\n",
      "19. essentialComplexity (0.026260)\n",
      "20. programLength (0.025903)\n",
      "21. hCodeAndComment (0.013707)\n"
     ]
    }
   ],
   "source": [
    "importances = clf.feature_importances_\n",
    "std = np.std([tree.feature_importances_ for tree in clf.estimators_], axis=0)\n",
    "indices = np.argsort(importances)[::-1]\n",
    "\n",
    "print(\"Feature ranking:\")\n",
    "for f in range(X_train.shape[1]):\n",
    "    print(\"%d. %s (%f)\" % (f + 1, features[indices[f]], importances[indices[f]]))"
   ]
  },
  {
   "cell_type": "code",
   "execution_count": 7,
   "metadata": {
    "collapsed": false
   },
   "outputs": [
    {
     "name": "stdout",
     "output_type": "stream",
     "text": [
      "accuracy:   0.611\n",
      "Precision:   0.574\n",
      "Recall:   0.915\n",
      "F-measure:   0.706\n"
     ]
    }
   ],
   "source": [
    "from sklearn import svm\n",
    "\n",
    "clf = svm.SVC()\n",
    "\n",
    "clf.fit(train_data_array, train_class_array)\n",
    "\n",
    "pred = clf.predict(test_data_array)\n",
    "score = metrics.accuracy_score(test_class_array, pred)\n",
    "print(\"accuracy:   %0.3f\" % score)\n",
    "\n",
    "score = metrics.precision_score(test_class_array, pred)\n",
    "print(\"Precision:   %0.3f\" % score)\n",
    "\n",
    "score = metrics.recall_score(test_class_array, pred)\n",
    "print(\"Recall:   %0.3f\" % score)\n",
    "\n",
    "score = metrics.f1_score(test_class_array, pred)\n",
    "print(\"F-measure:   %0.3f\" % score)"
   ]
  },
  {
   "cell_type": "markdown",
   "metadata": {},
   "source": [
    "## Hyperparameter Tuning"
   ]
  },
  {
   "cell_type": "code",
   "execution_count": null,
   "metadata": {},
   "outputs": [],
   "source": [
    "from sklearn.svm import SVC\n",
    "from sklearn.metrics import classification_report\n",
    "from sklearn.model_selection import GridSearchCV\n",
    "\n",
    "tuned_parameters = [{'kernel': ['rbf'], 'gamma': [1e-3, 1e-4], 'C': [1, 10, 100, 1000]}, {'kernel': ['linear'], 'C': [1, 10, 100, 1000]}]\n",
    "\n",
    "clf = GridSearchCV(SVC(C=1), tuned_parameters, cv=5,\n",
    "                       scoring='f1_macro')\n",
    "clf.fit(train_data_array, train_class_array)"
   ]
  },
  {
   "cell_type": "code",
   "execution_count": null,
   "metadata": {},
   "outputs": [],
   "source": []
  }
 ],
 "metadata": {
  "kernelspec": {
   "display_name": "Python 3",
   "language": "python",
   "name": "python3"
  },
  "language_info": {
   "codemirror_mode": {
    "name": "ipython",
    "version": 3
   },
   "file_extension": ".py",
   "mimetype": "text/x-python",
   "name": "python",
   "nbconvert_exporter": "python",
   "pygments_lexer": "ipython3",
   "version": "3.6.0"
  }
 },
 "nbformat": 4,
 "nbformat_minor": 2
}
