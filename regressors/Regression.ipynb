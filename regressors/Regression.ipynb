{
 "cells": [
  {
   "cell_type": "code",
   "execution_count": 2,
   "metadata": {},
   "outputs": [],
   "source": [
    "import pandas as pd\n",
    "import numpy as np\n",
    "from sklearn.metrics import *\n",
    "from scipy.stats import pearsonr as p1\n",
    "from scipy.stats import spearmanr as p2\n",
    "from scipy.stats import pointbiserialr as p3\n",
    "\n",
    "#print(p1(test_target_array, y))\n",
    "#print(p2(test_target_array, y))\n",
    "#print(p3(test_target_array, y))\n",
    "\n",
    "data = pd.read_csv(\"data/data_corr_85.csv\")"
   ]
  },
  {
   "cell_type": "code",
   "execution_count": 3,
   "metadata": {},
   "outputs": [],
   "source": [
    "training_set = data.sample(frac=0.8, random_state = 1)\n",
    "test_set = data.loc[~data.index.isin(training_set.index)]\n",
    "test_set\n",
    "\n",
    "data_columns = list(data.columns.values)\n",
    "data_columns.remove('NUMDEFECTS')\n",
    "\n",
    "training_data = training_set.as_matrix(columns = data_columns)\n",
    "nan_locs = np.isnan(training_data)\n",
    "training_data[nan_locs] = 0\n",
    "\n",
    "training_target = training_set['NUMDEFECTS'].values\n",
    "nan_locs = np.isnan(training_target)\n",
    "training_target[nan_locs] = 0\n",
    "\n",
    "test_data = test_set.as_matrix(columns = data_columns)\n",
    "nan_locs = np.isnan(test_data)\n",
    "test_data[nan_locs] = 0\n",
    "\n",
    "test_target = test_set['NUMDEFECTS'].values\n",
    "nan_locs = np.isnan(test_target)\n",
    "test_target[nan_locs] = 0"
   ]
  },
  {
   "cell_type": "code",
   "execution_count": 5,
   "metadata": {},
   "outputs": [
    {
     "name": "stdout",
     "output_type": "stream",
     "text": [
      "R squared: -0.322655436469\n",
      "MSE: 70.5678352371\n"
     ]
    }
   ],
   "source": [
    "from sklearn.neural_network import MLPRegressor\n",
    "reg = MLPRegressor()\n",
    "reg.fit(training_data, training_target)\n",
    "y = reg.predict(test_data)\n",
    "\n",
    "print('R squared: ' + str(reg.score(test_data, test_target)))\n",
    "print('MSE: ' + str(mean_squared_error(test_target, y)))"
   ]
  },
  {
   "cell_type": "code",
   "execution_count": 9,
   "metadata": {},
   "outputs": [
    {
     "name": "stdout",
     "output_type": "stream",
     "text": [
      "R squared: 0.233474481836\n",
      "R squared: 0.233474481836\n",
      "MSE: 40.8965517241\n"
     ]
    }
   ],
   "source": [
    "from sklearn.tree import DecisionTreeRegressor\n",
    "dt = DecisionTreeRegressor()\n",
    "dt.fit(training_data, training_target)\n",
    "y = dt.predict(test_data)\n",
    "\n",
    "print('R squared: ' + str(dt.score(test_data, test_target)))\n",
    "#print('R squared: ' + str(r2_score(test_target, y)))\n",
    "print('MSE: ' + str(mean_squared_error(test_target, y)))\n",
    "#print(dt.feature_importances_)"
   ]
  },
  {
   "cell_type": "code",
   "execution_count": 19,
   "metadata": {},
   "outputs": [
    {
     "name": "stdout",
     "output_type": "stream",
     "text": [
      "R squared: 0.419220612882\n",
      "MSE: 30.9864103448\n"
     ]
    }
   ],
   "source": [
    "from sklearn.ensemble import RandomForestRegressor\n",
    "rf = RandomForestRegressor(n_estimators = 100)\n",
    "rf.fit(training_data, training_target)\n",
    "y = rf.predict(test_data)\n",
    "\n",
    "print('R squared: ' + str(rf.score(test_data, test_target)))\n",
    "#print('R squared: ' + str(r2_score(test_target, y)))\n",
    "print('MSE: ' + str(mean_squared_error(test_target, y)))\n",
    "#print(rf.feature_importances_)"
   ]
  }
 ],
 "metadata": {
  "kernelspec": {
   "display_name": "Python 3",
   "language": "python",
   "name": "python3"
  },
  "language_info": {
   "codemirror_mode": {
    "name": "ipython",
    "version": 3
   },
   "file_extension": ".py",
   "mimetype": "text/x-python",
   "name": "python",
   "nbconvert_exporter": "python",
   "pygments_lexer": "ipython3",
   "version": "3.6.0"
  }
 },
 "nbformat": 4,
 "nbformat_minor": 2
}
